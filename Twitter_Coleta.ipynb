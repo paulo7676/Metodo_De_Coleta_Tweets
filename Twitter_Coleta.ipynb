{
 "cells": [
  {
   "cell_type": "code",
   "execution_count": 1,
   "id": "ad6baada",
   "metadata": {},
   "outputs": [],
   "source": [
    "import pyautogui \n",
    "import win32clipboard\n",
    "import time\n",
    "\n",
    "import requests\n",
    "from bs4 import BeautifulSoup\n",
    "import webbrowser"
   ]
  },
  {
   "cell_type": "code",
   "execution_count": 3,
   "id": "44c9ceac",
   "metadata": {},
   "outputs": [
    {
     "name": "stdout",
     "output_type": "stream",
     "text": [
      "2\n"
     ]
    }
   ],
   "source": [
    "#https://twitter.com/search?q=(%23pokemon)%20lang%3Apt%20until%3A2017-05-12%20since%3A2015-02-05&src=typed_query    principais\n",
    "#https://twitter.com/search?q=(%23pokemon)%20lang%3Apt%20until%3A2017-05-12%20since%3A2015-02-05&src=typed_query&f=live  ultimas\n",
    "modo = int(input())"
   ]
  },
  {
   "cell_type": "code",
   "execution_count": 57,
   "id": "c194048a",
   "metadata": {},
   "outputs": [],
   "source": [
    "mes = 10 #mes a ser verificado\n",
    "dia = 10 #dia a ser verificado\n",
    "ano = 2020 #ano a ser verificado\n",
    "dif = 1 #difereça utilizada entre os dias\n",
    "win32clipboard.OpenClipboard()\n",
    "win32clipboard.CloseClipboard()"
   ]
  },
  {
   "cell_type": "code",
   "execution_count": 83,
   "id": "bcacd552",
   "metadata": {},
   "outputs": [],
   "source": [
    "#caso de um problema no clipboard\n",
    "win32clipboard.OpenClipboard()\n",
    "win32clipboard.CloseClipboard()"
   ]
  },
  {
   "cell_type": "code",
   "execution_count": 75,
   "id": "668d755e",
   "metadata": {},
   "outputs": [],
   "source": [
    "array = [] #array com os ids coletados\n",
    "palavra = [\"hashtag1\",\"hashtag2\"] #Definição das hashtags que vao ser usadas"
   ]
  },
  {
   "cell_type": "code",
   "execution_count": 84,
   "id": "7eaac4c3",
   "metadata": {},
   "outputs": [
    {
     "name": "stdout",
     "output_type": "stream",
     "text": [
      "2\n"
     ]
    }
   ],
   "source": [
    "#definição do modo (1 para principais e 2 para recentes)\n",
    "modo = int(input())"
   ]
  },
  {
   "cell_type": "code",
   "execution_count": 80,
   "id": "81e26275",
   "metadata": {},
   "outputs": [],
   "source": [
    "for i in range(len(palavra)):\n",
    "    if(modo == 1):\n",
    "        UrlPrincipal = \"https://twitter.com/search?q=(%23\"+palavra[i]+\")%20lang%3Apt%20until%3A\"+str(ano)+\"-\"+str(mes)+\"-\"+str(dia+dif)+\"%20since%3A\"+str(ano)+\"-\"+str(mes)+\"-\"+str(dia)+\"&src=typed_query\"\n",
    "    elif(modo == 2):\n",
    "        UrlPrincipal = \"https://twitter.com/search?q=(%23\"+palavra[i]+\")%20lang%3Apt%20until%3A\"+str(ano)+\"-\"+str(mes)+\"-\"+str(dia+dif)+\"%20since%3A\"+str(ano)+\"-\"+str(mes)+\"-\"+str(dia)+\"&src=typed_query&f=live\"\n",
    "        \n",
    "    webbrowser.open(UrlPrincipal) #Abrir Url Principal\n",
    "    \n",
    "    pyautogui.hotkey(\"ctrlleft\", \"9\") #Abre a aba Twitter\n",
    "\n",
    "    contadorFinal_da_tela = 0 #contador para ver se chegou no final da tela\n",
    "    contador_post = 0 #contador para quantidade de tweets coletados\n",
    "\n",
    "    pyautogui.moveTo(535, 300, duration = 0.1) #Seleciona a posição do mouse no lado direito de um tweet\n",
    "    time.sleep(10) #espera a pagina carregar\n",
    "    \n",
    "    #define valores do Id para evitar copias\n",
    "    Id_Atual = \"0\"\n",
    "    Id_Anterior = \"0\"\n",
    "    \n",
    "    #contador de post é a quantidade de posts coletados\n",
    "    while(contador_post != 30 and contadorFinal_da_tela != 30):\n",
    "        \n",
    "        \n",
    "        pyautogui.click() #seleciona o tweet\n",
    "        \n",
    "        #move para a URL para e salva a mesma no clipboard\n",
    "        pyautogui.moveTo(535, 65, duration = 0.5) #valores de 535 e 65 podem/preciam ser mudados dependendo do navegador e definição do computador\n",
    "        pyautogui.click()\n",
    "        pyautogui.hotkey(\"ctrlleft\", \"a\")\n",
    "        pyautogui.hotkey(\"ctrlleft\", \"c\")\n",
    "        win32clipboard.OpenClipboard()\n",
    "        Url_Atual = win32clipboard.GetClipboardData()\n",
    "        win32clipboard.CloseClipboard()\n",
    "        \n",
    "        #volta para a tela anterior\n",
    "        pyautogui.hotkey(\"alt\", \"left\")\n",
    "        \n",
    "        #scrolla a tela para baixo (mesmos valores podem ser mudados), no caso do -100 é a quantidade que é rolada para baixo\n",
    "        pyautogui.moveTo(2000, 300, duration = 1) \n",
    "        pyautogui.scroll(-100, x=2100, y=300)\n",
    "        \n",
    "        #move para o tweet\n",
    "        pyautogui.moveTo(535, 300, duration = 1)\n",
    "        \n",
    "        #checa para ver se chegamos ao final da tela\n",
    "        if(UrlPrincipal == Url_Atual):\n",
    "            contadorFinal_da_tela += 1    \n",
    "        else:\n",
    "            \n",
    "            #coleta o Id da URL\n",
    "            LastDashLoc = Url_Atual.rfind(\"/\")\n",
    "            Id = Url_Atual[LastDashLoc+1:]\n",
    "            Id_Atual = Id\n",
    "            \n",
    "            #checa para ver se o ID anterior é igual ao atual (mesmo tweet)\n",
    "            if(Id_Atual != Id_Anterior):\n",
    "                array.append(Id)\n",
    "                f = open(\"Arquivo.txt\", \"a\") #coloca o id em um arquivo txt (para mudar o nome do arquivo mude o nome antes do \"a\", o .txt ainda é necessário)\n",
    "                f.write(Id+\"\\n\")\n",
    "                contador_post += 1\n",
    "                contadorFinal_da_tela = 0\n",
    "                Id_Anterior = Id_Atual\n",
    "            \n",
    "    time.sleep(600)\n",
    "        "
   ]
  },
  {
   "cell_type": "code",
   "execution_count": 82,
   "id": "a224796c",
   "metadata": {},
   "outputs": [],
   "source": [
    "#Garante que o arquivo txt não tem nenhuma duplicata\n",
    "lines_seen = set() \n",
    "outfile = open(\"Arquivo_sem_dup.txt\", \"w\")\n",
    "for line in open(\"Arquivo.txt\", \"r\"):\n",
    "    if line not in lines_seen: \n",
    "        outfile.write(line)\n",
    "        lines_seen.add(line)\n",
    "outfile.close()"
   ]
  }
 ],
 "metadata": {
  "kernelspec": {
   "display_name": "Python 3",
   "language": "python",
   "name": "python3"
  },
  "language_info": {
   "codemirror_mode": {
    "name": "ipython",
    "version": 3
   },
   "file_extension": ".py",
   "mimetype": "text/x-python",
   "name": "python",
   "nbconvert_exporter": "python",
   "pygments_lexer": "ipython3",
   "version": "3.8.10"
  }
 },
 "nbformat": 4,
 "nbformat_minor": 5
}
